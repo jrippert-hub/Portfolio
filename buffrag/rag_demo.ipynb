{
 "cells": [
  {
   "cell_type": "code",
   "execution_count": null,
   "metadata": {},
   "outputs": [],
   "source": [
    "# Cell 1: Install required packages and check installation\n",
    "%%capture\n",
    "!pip install -r requirements-txt.txt\n",
    "\n",
    "import importlib\n",
    "\n",
    "def check_package(package):\n",
    "    try:\n",
    "        importlib.import_module(package)\n",
    "        print(f\"{package} is installed.\")\n",
    "        return True\n",
    "    except ImportError:\n",
    "        print(f\"{package} is NOT installed.\")\n",
    "        return False\n",
    "\n",
    "# Read packages from requirements-txt.txt\n",
    "with open('requirements-txt.txt', 'r') as f:\n",
    "    required_packages = [line.strip() for line in f if line.strip() and not line.startswith('#')]\n",
    "\n",
    "all_installed = all(check_package(package) for package in required_packages)\n",
    "\n",
    "if all_installed:\n",
    "    print(\"\\nAll required packages are installed.\")\n",
    "else:\n",
    "    print(\"\\nSome packages are missing. Please check the output above and try reinstalling.\")\n"
   ]
  },
  {
   "cell_type": "code",
   "execution_count": 1,
   "metadata": {},
   "outputs": [
    {
     "name": "stderr",
     "output_type": "stream",
     "text": [
      "/Users/julian/Library/Python/3.9/lib/python/site-packages/urllib3/__init__.py:35: NotOpenSSLWarning: urllib3 v2 only supports OpenSSL 1.1.1+, currently the 'ssl' module is compiled with 'LibreSSL 2.8.3'. See: https://github.com/urllib3/urllib3/issues/3020\n",
      "  warnings.warn(\n"
     ]
    },
    {
     "ename": "ModuleNotFoundError",
     "evalue": "No module named 'PyPDF2'",
     "output_type": "error",
     "traceback": [
      "\u001b[0;31m---------------------------------------------------------------------------\u001b[0m",
      "\u001b[0;31mModuleNotFoundError\u001b[0m                       Traceback (most recent call last)",
      "Cell \u001b[0;32mIn[1], line 4\u001b[0m\n\u001b[1;32m      1\u001b[0m \u001b[38;5;66;03m# File: rag_demo.ipynb\u001b[39;00m\n\u001b[1;32m      2\u001b[0m \n\u001b[1;32m      3\u001b[0m \u001b[38;5;66;03m# Cell 1: Import necessary modules\u001b[39;00m\n\u001b[0;32m----> 4\u001b[0m \u001b[38;5;28;01mfrom\u001b[39;00m \u001b[38;5;21;01mrag\u001b[39;00m \u001b[38;5;28;01mimport\u001b[39;00m initialize_buff_rag, create_rag_chain, run_analysis\n\u001b[1;32m      5\u001b[0m \u001b[38;5;28;01mfrom\u001b[39;00m \u001b[38;5;21;01mformatting\u001b[39;00m \u001b[38;5;28;01mimport\u001b[39;00m create_dynamic_input_box, display_vector_store_info\n\u001b[1;32m      6\u001b[0m \u001b[38;5;28;01mfrom\u001b[39;00m \u001b[38;5;21;01mdocument_manager\u001b[39;00m \u001b[38;5;28;01mimport\u001b[39;00m DocumentManager\n",
      "File \u001b[0;32m~/Documents/Career/portfolio/buffrag/rag.py:15\u001b[0m\n\u001b[1;32m     12\u001b[0m \u001b[38;5;28;01mfrom\u001b[39;00m \u001b[38;5;21;01mqdrant_client\u001b[39;00m \u001b[38;5;28;01mimport\u001b[39;00m QdrantClient\n\u001b[1;32m     13\u001b[0m \u001b[38;5;28;01mfrom\u001b[39;00m \u001b[38;5;21;01mqdrant_client\u001b[39;00m\u001b[38;5;21;01m.\u001b[39;00m\u001b[38;5;21;01mmodels\u001b[39;00m \u001b[38;5;28;01mimport\u001b[39;00m Distance, VectorParams, PointStruct\n\u001b[0;32m---> 15\u001b[0m \u001b[38;5;28;01mfrom\u001b[39;00m \u001b[38;5;21;01mdocument_manager\u001b[39;00m \u001b[38;5;28;01mimport\u001b[39;00m DocumentManager\n\u001b[1;32m     16\u001b[0m \u001b[38;5;28;01mfrom\u001b[39;00m \u001b[38;5;21;01msearch_utils\u001b[39;00m \u001b[38;5;28;01mimport\u001b[39;00m perform_google_search, extract_key_terms, extract_snippets\n\u001b[1;32m     18\u001b[0m \u001b[38;5;28;01mdef\u001b[39;00m \u001b[38;5;21minitialize_buff_rag\u001b[39m(openai_api_key, serpapi_api_key, chunk_size\u001b[38;5;241m=\u001b[39m\u001b[38;5;241m500\u001b[39m, chunk_overlap\u001b[38;5;241m=\u001b[39m\u001b[38;5;241m0\u001b[39m):\n",
      "File \u001b[0;32m~/Documents/Career/portfolio/buffrag/document_manager.py:10\u001b[0m\n\u001b[1;32m      8\u001b[0m \u001b[38;5;28;01mimport\u001b[39;00m \u001b[38;5;21;01mrequests\u001b[39;00m\n\u001b[1;32m      9\u001b[0m \u001b[38;5;28;01mimport\u001b[39;00m \u001b[38;5;21;01mio\u001b[39;00m\n\u001b[0;32m---> 10\u001b[0m \u001b[38;5;28;01mfrom\u001b[39;00m \u001b[38;5;21;01mPyPDF2\u001b[39;00m \u001b[38;5;28;01mimport\u001b[39;00m PdfReader\n\u001b[1;32m     12\u001b[0m \u001b[38;5;28;01mclass\u001b[39;00m \u001b[38;5;21;01mDocumentManager\u001b[39;00m:\n\u001b[1;32m     13\u001b[0m     \u001b[38;5;28;01mdef\u001b[39;00m \u001b[38;5;21m__init__\u001b[39m(\u001b[38;5;28mself\u001b[39m, embedding_function, cache_file\u001b[38;5;241m=\u001b[39m\u001b[38;5;124m\"\u001b[39m\u001b[38;5;124membeddings_cache.pkl\u001b[39m\u001b[38;5;124m\"\u001b[39m, chunk_size\u001b[38;5;241m=\u001b[39m\u001b[38;5;241m500\u001b[39m, chunk_overlap\u001b[38;5;241m=\u001b[39m\u001b[38;5;241m0\u001b[39m):\n",
      "\u001b[0;31mModuleNotFoundError\u001b[0m: No module named 'PyPDF2'"
     ]
    }
   ],
   "source": [
    "# File: rag_demo.ipynb\n",
    "\n",
    "# Cell 1: Import necessary modules\n",
    "from rag import initialize_buff_rag, create_rag_chain, run_analysis\n",
    "from formatting import create_dynamic_input_box, display_vector_store_info\n",
    "from document_manager import DocumentManager\n"
   ]
  },
  {
   "cell_type": "code",
   "execution_count": null,
   "metadata": {},
   "outputs": [],
   "source": [
    "\n",
    "# Cell 2: Set up API keys\n",
    "openai_api_key = \"your_openai_api_key\"\n",
    "serpapi_api_key = \"your_serpapi_api_key\""
   ]
  },
  {
   "cell_type": "code",
   "execution_count": null,
   "metadata": {},
   "outputs": [],
   "source": [
    "\n",
    "# Cell 3: Initialize the RAG system\n",
    "search_tool, openai_llm, vectorstore, client, doc_manager = initialize_buff_rag(\n",
    "    openai_api_key, \n",
    "    serpapi_api_key\n",
    ")\n",
    "rag_chain, search_results_store = create_rag_chain(search_tool, openai_llm)"
   ]
  },
  {
   "cell_type": "code",
   "execution_count": null,
   "metadata": {},
   "outputs": [],
   "source": [
    "# Cell 4: Display vector store info and create input box\n",
    "display_vector_store_info(client)\n",
    "create_dynamic_input_box(rag_chain, search_results_store)"
   ]
  },
  {
   "cell_type": "code",
   "execution_count": null,
   "metadata": {},
   "outputs": [],
   "source": [
    "# Cell 5 (optional): Add documents to the vector store\n",
    "documents = [\n",
    "    \"Your first document content here\",\n",
    "    \"Your second document content here\",\n",
    "    # Add more documents as needed\n",
    "]\n",
    "doc_manager.add_documents(documents)"
   ]
  },
  {
   "cell_type": "code",
   "execution_count": null,
   "metadata": {},
   "outputs": [],
   "source": [
    "# Cell 6 (optional): Run a sample analysis\n",
    "question = \"What is the current state of the stock market?\"\n",
    "result, search_results = run_analysis(rag_chain, question, search_results_store)\n",
    "print(result)\n"
   ]
  }
 ],
 "metadata": {
  "kernelspec": {
   "display_name": "Python 3",
   "language": "python",
   "name": "python3"
  },
  "language_info": {
   "codemirror_mode": {
    "name": "ipython",
    "version": 3
   },
   "file_extension": ".py",
   "mimetype": "text/x-python",
   "name": "python",
   "nbconvert_exporter": "python",
   "pygments_lexer": "ipython3",
   "version": "3.9.6"
  }
 },
 "nbformat": 4,
 "nbformat_minor": 2
}
